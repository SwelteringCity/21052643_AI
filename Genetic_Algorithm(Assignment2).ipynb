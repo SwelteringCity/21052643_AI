{
  "nbformat": 4,
  "nbformat_minor": 0,
  "metadata": {
    "colab": {
      "provenance": [],
      "toc_visible": true,
      "authorship_tag": "ABX9TyPI+yvRaLdU02k8G2c2ZYoz",
      "include_colab_link": true
    },
    "kernelspec": {
      "name": "python3",
      "display_name": "Python 3"
    },
    "language_info": {
      "name": "python"
    }
  },
  "cells": [
    {
      "cell_type": "markdown",
      "metadata": {
        "id": "view-in-github",
        "colab_type": "text"
      },
      "source": [
        "<a href=\"https://colab.research.google.com/github/SwelteringCity/21052643_AI/blob/main/Genetic_Algorithm(Assignment2).ipynb\" target=\"_parent\"><img src=\"https://colab.research.google.com/assets/colab-badge.svg\" alt=\"Open In Colab\"/></a>"
      ]
    },
    {
      "cell_type": "markdown",
      "source": [
        "# Input"
      ],
      "metadata": {
        "id": "m9OnQTnnARBM"
      }
    },
    {
      "cell_type": "markdown",
      "source": [
        "## Importing the packages"
      ],
      "metadata": {
        "id": "jS_ZZDrw_PwW"
      }
    },
    {
      "cell_type": "code",
      "source": [
        "import tensorflow as tf\n",
        "from PIL import Image,ImageDraw\n",
        "import random\n",
        "import numpy as np\n",
        "from skimage.metrics import structural_similarity as ssim\n",
        "import cv2"
      ],
      "metadata": {
        "id": "_pS8n6WR_iUI"
      },
      "execution_count": null,
      "outputs": []
    },
    {
      "cell_type": "markdown",
      "source": [
        "## Image Path setting and defining the target_pixels"
      ],
      "metadata": {
        "id": "Vv75jZSE_7FC"
      }
    },
    {
      "cell_type": "code",
      "source": [
        "image_path = 'https://github.com/SwelteringCity/21052643_AI/blob/main/Task_1/images/inputimage.png'\n",
        "image = Image.open(image_path)\n",
        "image.show()\n",
        "canvas_width, canvas_height=image.size #canvas creation\n",
        "target_image = np.array(image) #pixel array creation using numpy"
      ],
      "metadata": {
        "id": "nJAHSixjABcJ"
      },
      "execution_count": null,
      "outputs": []
    },
    {
      "cell_type": "markdown",
      "source": [
        "Generating N random squares with random positions, RGB values, and opacity"
      ],
      "metadata": {
        "id": "VbAwuadixRw4"
      }
    },
    {
      "cell_type": "code",
      "source": [
        "# class Square:\n",
        "#     def __init__(self):\n",
        "#         # Random position within the canvas\n",
        "#         self.x1 = random.randint(0, canvas_width)\n",
        "#         self.y1 = random.randint(0, canvas_height)\n",
        "#         self.x2 = random.randint(self.x1, canvas_width)\n",
        "#         self.y2 = random.randint(self.y1, canvas_height)\n",
        "\n",
        "#         # Random RGB color\n",
        "#         self.color = (random.randint(0, 255), random.randint(0, 255), random.randint(0, 255))\n",
        "\n",
        "#         # Random opacity (0 to 255, where 0 is fully transparent and 255 is fully opaque)\n",
        "#         self.opacity = random.randint(0, 255)\n",
        "\n",
        "# # Create a population of random squares\n",
        "# population = [Square() for _ in range(N)]\n"
      ],
      "metadata": {
        "id": "v1K_dZyBxUW_"
      },
      "execution_count": 6,
      "outputs": []
    },
    {
      "cell_type": "markdown",
      "source": [
        "# Canvas generation"
      ],
      "metadata": {
        "id": "6zUyr4eXB2Mm"
      }
    },
    {
      "cell_type": "code",
      "source": [
        "#canvas_width, canvas_height = 800, 600\n",
        "N = 10000  # Number of squares\n",
        "\n",
        "# Create an empty canvas\n",
        "canvas = Image.new(\"RGBA\", (canvas_width, canvas_height), (255, 255, 255, 0))\n",
        "draw = ImageDraw.Draw(canvas)"
      ],
      "metadata": {
        "id": "yuqAjG21DN-W"
      },
      "execution_count": null,
      "outputs": []
    },
    {
      "cell_type": "markdown",
      "source": [
        "# Crossover"
      ],
      "metadata": {
        "id": "_cmZR3FNArRV"
      }
    },
    {
      "cell_type": "code",
      "source": [
        "# def custom_crossover(parent1, parent2):\n",
        "#     # Create empty canvases for the offspring\n",
        "#     offspring1 = create_empty_canvas()\n",
        "#     offspring2 = create_empty_canvas()\n",
        "\n",
        "#     # Randomly select a crossover point along the canvas\n",
        "#     crossover_point = random_position()\n",
        "\n",
        "#     # Copy elements from parent1 to offspring1 up to the crossover point\n",
        "#     copy_elements(parent1, offspring1, up_to=crossover_point)\n",
        "\n",
        "#     # Copy elements from parent2 to offspring2 from the crossover point\n",
        "#     copy_elements(parent2, offspring2, from_position=crossover_point)\n",
        "\n",
        "#     return offspring1, offspring2\n",
        "def crossover(parent1, parent2):\n",
        "    # Ensure parent images have the same dimensions\n",
        "    if parent1.shape != parent2.shape:\n",
        "        raise ValueError(\"Parent images must have the same dimensions for crossover.\")\n",
        "\n",
        "    # Create empty pixel arrays for the offspring\n",
        "    height, width, channels = parent1.shape\n",
        "    offspring1 = np.zeros((height, width, channels), dtype=np.uint8)\n",
        "    offspring2 = np.zeros((height, width, channels), dtype=np.uint8)\n",
        "\n",
        "    # Randomly select a crossover point along the width and height\n",
        "    crossover_x = random.randint(0, width)\n",
        "    crossover_y = random.randint(0, height)\n",
        "\n",
        "    # Copy pixel values from parent1 to offspring1 up to the crossover point\n",
        "    offspring1[:crossover_y, :crossover_x] = parent1[:crossover_y, :crossover_x]\n",
        "\n",
        "    # Copy pixel values from parent2 to offspring2 from the crossover point\n",
        "    offspring2[:crossover_y, :crossover_x] = parent2[:crossover_y, :crossover_x]\n",
        "\n",
        "    return offspring1, offspring2\n"
      ],
      "metadata": {
        "id": "ZdKx-ob4Awf2"
      },
      "execution_count": null,
      "outputs": []
    },
    {
      "cell_type": "markdown",
      "source": [
        "# Mutation"
      ],
      "metadata": {
        "id": "ECd7xJ0zAxy_"
      }
    },
    {
      "cell_type": "code",
      "source": [
        "# def mutate(self, mutation_rate, canvas_width, canvas_height):\n",
        "#         # Mutate the square's attributes with a certain probability (mutation_rate)\n",
        "#         if random.random() < mutation_rate:\n",
        "#             # Mutate the x-coordinate\n",
        "#             self.x = random.randint(0, canvas_width)\n",
        "\n",
        "#         if random.random() < mutation_rate:\n",
        "#             # Mutate the y-coordinate\n",
        "#             self.y = random.randint(0, canvas_height)\n",
        "\n",
        "#         if random.random() < mutation_rate:\n",
        "#             # Mutate the size of the square\n",
        "#             self.size = random.randint(1, 50)  # Adjust the size range as needed\n",
        "\n",
        "#         if random.random() < mutation_rate:\n",
        "#             # Mutate the color (assuming color is represented as an RGB tuple)\n",
        "#             self.color = (random.randint(0, 255), random.randint(0, 255), random.randint(0, 255))\n",
        "import random\n",
        "import numpy as np\n",
        "\n",
        "class Square:\n",
        "    def __init__(self, x, y, size, color):\n",
        "        self.x = x\n",
        "        self.y = y\n",
        "        self.size = size\n",
        "        self.color = color\n",
        "\n",
        "    def mutate(self, mutation_rate, image_shape):\n",
        "        # Mutate the square's attributes with a certain probability (mutation_rate)\n",
        "        if random.random() < mutation_rate:\n",
        "            # Mutate the x-coordinate\n",
        "            self.x = max(0, min(self.x + random.randint(-10, 10), image_shape[1] - 1))\n",
        "\n",
        "        if random.random() < mutation_rate:\n",
        "            # Mutate the y-coordinate\n",
        "            self.y = max(0, min(self.y + random.randint(-10, 10), image_shape[0] - 1))\n",
        "\n",
        "        if random.random() < mutation_rate:\n",
        "            # Mutate the size of the square\n",
        "            self.size = max(1, min(self.size + random.randint(-10, 10), 50))  # Adjust the size range as needed\n",
        "\n",
        "        if random.random() < mutation_rate:\n",
        "            # Mutate the color (assuming color is represented as an RGB tuple)\n",
        "            self.color = (\n",
        "                max(0, min(self.color[0] + random.randint(-50, 50), 255)),\n",
        "                max(0, min(self.color[1] + random.randint(-50, 50), 255)),\n",
        "                max(0, min(self.color[2] + random.randint(-50, 50), 255))\n",
        "            )\n",
        "\n",
        "# Example usage:\n",
        "# Initialize a Square instance\n",
        "square = Square(10, 20, 30, (255, 0, 0))\n",
        "mutation_rate = 0.1  # Adjust the mutation rate as needed\n",
        "image_shape = (100, 100, 3)  # Adjust the image shape as needed\n",
        "\n",
        "# Apply mutation to the square\n",
        "square.mutate(mutation_rate, image_shape)"
      ],
      "metadata": {
        "id": "d4oG5fRBA07z"
      },
      "execution_count": null,
      "outputs": []
    },
    {
      "cell_type": "markdown",
      "source": [
        "# Selection"
      ],
      "metadata": {
        "id": "xWoIGePoA57e"
      }
    },
    {
      "cell_type": "code",
      "source": [
        "def roulette_wheel_selection(population, fitness_values):\n",
        "    # Calculate the total fitness of the population\n",
        "    total_fitness = sum(fitness_values)\n",
        "\n",
        "    # Generate a random value between 0 and the total fitness\n",
        "    random_value = random.uniform(0, total_fitness)\n",
        "\n",
        "    # Initialize variables for selection\n",
        "    cumulative_fitness = 0\n",
        "    selected_square = None\n",
        "\n",
        "    # Iterate through the population to select a square\n",
        "    for i in range(len(population)):\n",
        "        cumulative_fitness += fitness_values[i]\n",
        "        if cumulative_fitness >= random_value:\n",
        "            selected_square = population[i]\n",
        "            break\n",
        "\n",
        "    return selected_square"
      ],
      "metadata": {
        "id": "xB8OM2WlA80x"
      },
      "execution_count": null,
      "outputs": []
    },
    {
      "cell_type": "markdown",
      "source": [
        "# Genetic Algorithm"
      ],
      "metadata": {
        "id": "CwXD2Vg7CdOr"
      }
    },
    {
      "cell_type": "markdown",
      "source": [
        "## Objective function\n"
      ],
      "metadata": {
        "id": "2bY8aoOhCnwc"
      }
    },
    {
      "cell_type": "code",
      "source": [
        "def objective_function(candidate_image):\n",
        "    # Convert images to NumPy arrays (assuming they are in the same format)\n",
        "    target_image = np.array(image)\n",
        "    candidate_image_np = np.array(candidate_image)\n",
        "\n",
        "    # Calculate SSIM\n",
        "    ssim_value = ssim(target_image, candidate_image_np, multichannel=True)\n",
        "\n",
        "    # SSIM returns a value in the range [-1, 1], where higher values indicate better similarity\n",
        "    return 1 - ssim_value  # Convert SSIM to a minimization problem (lower values are better)\n",
        "\n",
        "N=10000 #number of squares in the population\n",
        "# Create an initial population of random squares\n",
        "population = [Square() for _ in range(N)]"
      ],
      "metadata": {
        "id": "Va7fzlHdCqyB"
      },
      "execution_count": null,
      "outputs": []
    },
    {
      "cell_type": "markdown",
      "source": [
        "## Genetic Algorithm"
      ],
      "metadata": {
        "id": "B6M_uKFEDB7L"
      }
    },
    {
      "cell_type": "code",
      "source": [
        "initial_mutation_rate = 0.2\n",
        "mutation_reduction_factor = 0.95\n",
        "max_generations = 100\n",
        "\n",
        "# Initialize population with random squares\n",
        "\n",
        "# Define objective function\n",
        "\n",
        "# Genetic Algorithm loop\n",
        "for generation in range(max_generations):\n",
        "    # Calculate the mutation rate for the current generation\n",
        "    mutation_rate = initial_mutation_rate / (generation + 1) * mutation_reduction_factor\n",
        "\n",
        "    for square in population:\n",
        "        # Calculate the objective function value for the square\n",
        "\n",
        "        # Perform mutation with a variable mutation rate\n",
        "        if random.random() < mutation_rate:\n",
        "            # Apply mutation to the square\n",
        "\n",
        "    # Evaluate fitness of mutated squares\n",
        "\n",
        "    # Select the next generation based on fitness and other selection strategies\n",
        "\n",
        "# The best individual in the final generation contains the squares to generate the image"
      ],
      "metadata": {
        "id": "q1Xb0C0vCfp2"
      },
      "execution_count": null,
      "outputs": []
    },
    {
      "cell_type": "markdown",
      "source": [
        "# Final Output"
      ],
      "metadata": {
        "id": "XKZVVZPBDVjr"
      }
    },
    {
      "cell_type": "code",
      "source": [],
      "metadata": {
        "id": "rhejjUHiDZzn"
      },
      "execution_count": null,
      "outputs": []
    }
  ]
}